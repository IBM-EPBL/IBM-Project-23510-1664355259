{
  "nbformat": 4,
  "nbformat_minor": 0,
  "metadata": {
    "colab": {
      "provenance": []
    },
    "kernelspec": {
      "name": "python3",
      "display_name": "Python 3"
    },
    "language_info": {
      "name": "python"
    }
  },
  "cells": [
    {
      "cell_type": "code",
      "execution_count": 1,
      "metadata": {
        "id": "_FEv0jLLr-nw"
      },
      "outputs": [],
      "source": [
        "#import keras Library\n",
        "import keras\n",
        "#impport ImageDataGenerator class from keras\n",
        "from keras.preprocessing.image import ImageDataGenerator"
      ]
    }
  ]
}
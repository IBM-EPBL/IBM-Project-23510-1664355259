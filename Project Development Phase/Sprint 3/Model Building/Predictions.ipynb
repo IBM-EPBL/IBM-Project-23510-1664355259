{
  "nbformat": 4,
  "nbformat_minor": 0,
  "metadata": {
    "colab": {
      "provenance": []
    },
    "kernelspec": {
      "name": "python3",
      "display_name": "Python 3"
    },
    "language_info": {
      "name": "python"
    }
  },
  "cells": [
    {
      "cell_type": "code",
      "execution_count": 1,
      "metadata": {
        "id": "z6K3hCSXr9jf"
      },
      "outputs": [],
      "source": [
        "#import keras Library\n",
        "import keras\n",
        "#impport ImageDataGenerator class from keras\n",
        "from keras.preprocessing.image import ImageDataGenerator"
      ]
    },
    {
      "cell_type": "code",
      "source": [
        "from types import resolve_bases\n",
        "#define the parameters/arguments for ImageDataGenerator\n",
        "train_datagen=ImageDataGenerator(rescale=1./255,\n",
        "                                 shear_range=0.2,\n",
        "                                 rotation_range=180,\n",
        "                                 zoom_range=0.2,\n",
        "                                 horizontal_flip=True)\n",
        "\n",
        "test_datagen=ImageDataGenerator(rescale=1./255)"
      ],
      "metadata": {
        "id": "aRM6o-SKWMgH"
      },
      "execution_count": 2,
      "outputs": []
    },
    {
      "cell_type": "code",
      "source": [
        "from google.colab import drive\n",
        "drive.mount('/content/drive')"
      ],
      "metadata": {
        "colab": {
          "base_uri": "https://localhost:8080/"
        },
        "id": "xPrsFzoPWPxw",
        "outputId": "5a96ad86-a7ce-4fe0-c6c0-b833eaaa75ea"
      },
      "execution_count": 3,
      "outputs": [
        {
          "output_type": "stream",
          "name": "stdout",
          "text": [
            "Mounted at /content/drive\n"
          ]
        }
      ]
    },
    {
      "cell_type": "code",
      "source": [
        "#Applying ImageDataGenerator functions to trainset\n",
        "x_train = train_datagen.flow_from_directory('/content/drive/MyDrive/IBM_forestfire/Dataset/Dataset/train_set',\n",
        "                                            target_size=(128,128),\n",
        "                                            batch_size=32,\n",
        "                                            class_mode='binary')"
      ],
      "metadata": {
        "colab": {
          "base_uri": "https://localhost:8080/"
        },
        "id": "qR1iAaM6XZxI",
        "outputId": "1f6a2b78-eb10-4191-ac0b-4bf5ee05cfa9"
      },
      "execution_count": 4,
      "outputs": [
        {
          "output_type": "stream",
          "name": "stdout",
          "text": [
            "Found 436 images belonging to 2 classes.\n"
          ]
        }
      ]
    },
    {
      "cell_type": "code",
      "source": [
        "#Applying ImageDataGenerator functions to testset\n",
        "x_test = test_datagen.flow_from_directory(directory='/content/drive/MyDrive/IBM_forestfire/Dataset/Dataset/test_set',\n",
        "                                          target_size =(128,128),\n",
        "                                            batch_size=32,\n",
        "                                            class_mode='binary')"
      ],
      "metadata": {
        "colab": {
          "base_uri": "https://localhost:8080/"
        },
        "id": "t9asnqfmXc1z",
        "outputId": "7c2ac5ac-ad46-4572-da37-4da7ba56e9e9"
      },
      "execution_count": 5,
      "outputs": [
        {
          "output_type": "stream",
          "name": "stdout",
          "text": [
            "Found 121 images belonging to 2 classes.\n"
          ]
        }
      ]
    },
    {
      "cell_type": "code",
      "source": [
        "'''import model building libraries'''\n",
        "#To define linear intialisation import sequential\n",
        "from keras.models import Sequential\n",
        "#To add layer import Dense\n",
        "from keras.layers import Dense\n",
        "#To create Convolution kernel import Convolution2D\n",
        "from keras.layers import Convolution2D\n",
        "#import Maxpooling layer\n",
        "from keras.layers import MaxPooling2D\n",
        "#import Flatten layer\n",
        "from keras.layers import Flatten\n",
        "import warnings \n",
        "warnings.filterwarnings('ignore')"
      ],
      "metadata": {
        "id": "KtW2fh6CXxif"
      },
      "execution_count": 6,
      "outputs": []
    },
    {
      "cell_type": "code",
      "source": [
        "#initializing the model\n",
        "model=Sequential()"
      ],
      "metadata": {
        "id": "tDvaalvWYYva"
      },
      "execution_count": 7,
      "outputs": []
    },
    {
      "cell_type": "code",
      "source": [
        "#add convolutional layer\n",
        "model.add(Convolution2D(32,(3,3),input_shape=(128,128,3),activation='relu'))"
      ],
      "metadata": {
        "id": "ZlMrnjOUZLHm"
      },
      "execution_count": 8,
      "outputs": []
    },
    {
      "cell_type": "code",
      "source": [
        "#add maxpooling layer\n",
        "model.add(MaxPooling2D(pool_size=(2,2)))"
      ],
      "metadata": {
        "id": "m9-HoYrNZvd0"
      },
      "execution_count": 9,
      "outputs": []
    },
    {
      "cell_type": "code",
      "source": [
        "#add flatten layer\n",
        "model.add(Flatten())"
      ],
      "metadata": {
        "id": "Ek3FITPnZ8m8"
      },
      "execution_count": 10,
      "outputs": []
    },
    {
      "cell_type": "code",
      "source": [
        "#add hidden layer\n",
        "model.add(Dense(units=256,activation='relu'))"
      ],
      "metadata": {
        "id": "r5sEbQ2WcABB"
      },
      "execution_count": 12,
      "outputs": []
    },
    {
      "cell_type": "code",
      "source": [
        "#add Output layer\n",
        "model.add(Dense(units=1,activation='sigmoid'))"
      ],
      "metadata": {
        "id": "TN65ERS7dzK0"
      },
      "execution_count": 13,
      "outputs": []
    },
    {
      "cell_type": "code",
      "source": [
        "#configure the learning process\n",
        "model.compile(loss='binary_crossentropy',\n",
        "              optimizer=\"adam\",\n",
        "              metrics=[\"accuracy\"])"
      ],
      "metadata": {
        "id": "tj22LbT4eCDQ"
      },
      "execution_count": 14,
      "outputs": []
    },
    {
      "cell_type": "code",
      "source": [
        "#Traing the model\n",
        "model.fit_generator(x_train,steps_per_epoch=14,\n",
        "                    epochs=10,validation_data=x_test,\n",
        "                    validation_steps=4)"
      ],
      "metadata": {
        "colab": {
          "base_uri": "https://localhost:8080/"
        },
        "id": "-O4tuqmxeidz",
        "outputId": "c20c4fb3-c3da-4ab4-d5c7-490ebe6dbc05"
      },
      "execution_count": 15,
      "outputs": [
        {
          "output_type": "stream",
          "name": "stdout",
          "text": [
            "Epoch 1/10\n",
            "14/14 [==============================] - 127s 9s/step - loss: 4.9238 - accuracy: 0.6124 - val_loss: 0.8703 - val_accuracy: 0.7686\n",
            "Epoch 2/10\n",
            "14/14 [==============================] - 30s 2s/step - loss: 0.4816 - accuracy: 0.8394 - val_loss: 0.0793 - val_accuracy: 0.9835\n",
            "Epoch 3/10\n",
            "14/14 [==============================] - 30s 2s/step - loss: 0.2303 - accuracy: 0.8991 - val_loss: 0.1014 - val_accuracy: 0.9669\n",
            "Epoch 4/10\n",
            "14/14 [==============================] - 28s 2s/step - loss: 0.1893 - accuracy: 0.9151 - val_loss: 0.0707 - val_accuracy: 0.9752\n",
            "Epoch 5/10\n",
            "14/14 [==============================] - 28s 2s/step - loss: 0.1892 - accuracy: 0.9197 - val_loss: 0.1005 - val_accuracy: 0.9587\n",
            "Epoch 6/10\n",
            "14/14 [==============================] - 30s 2s/step - loss: 0.1836 - accuracy: 0.9174 - val_loss: 0.0669 - val_accuracy: 0.9835\n",
            "Epoch 7/10\n",
            "14/14 [==============================] - 28s 2s/step - loss: 0.1767 - accuracy: 0.9220 - val_loss: 0.0613 - val_accuracy: 0.9752\n",
            "Epoch 8/10\n",
            "14/14 [==============================] - 30s 2s/step - loss: 0.1605 - accuracy: 0.9220 - val_loss: 0.0670 - val_accuracy: 0.9752\n",
            "Epoch 9/10\n",
            "14/14 [==============================] - 31s 2s/step - loss: 0.1595 - accuracy: 0.9335 - val_loss: 0.0622 - val_accuracy: 0.9835\n",
            "Epoch 10/10\n",
            "14/14 [==============================] - 29s 2s/step - loss: 0.1773 - accuracy: 0.9220 - val_loss: 0.0503 - val_accuracy: 0.9917\n"
          ]
        },
        {
          "output_type": "execute_result",
          "data": {
            "text/plain": [
              "<keras.callbacks.History at 0x7f68f13f4bd0>"
            ]
          },
          "metadata": {},
          "execution_count": 15
        }
      ]
    },
    {
      "cell_type": "code",
      "source": [
        "#save the model\n",
        "model.save(\"forest1.h5\")"
      ],
      "metadata": {
        "id": "UZ3Jf37Ch5kd"
      },
      "execution_count": 16,
      "outputs": []
    },
    {
      "cell_type": "code",
      "source": [
        "#import load_model from keras.model\n",
        "from keras.models import load_model\n",
        "#import image class from keras\n",
        "from tensorflow.keras.preprocessing import image\n",
        "#import numpy\n",
        "import numpy as np\n",
        "#import cv2\n",
        "import cv2"
      ],
      "metadata": {
        "id": "x8igz26FiIzS"
      },
      "execution_count": 21,
      "outputs": []
    },
    {
      "cell_type": "code",
      "source": [
        "#load the saved model\n",
        "model=load_model(\"forest1.h5\")"
      ],
      "metadata": {
        "id": "A60rl1oJitMs"
      },
      "execution_count": 18,
      "outputs": []
    },
    {
      "cell_type": "code",
      "source": [
        "img=image.load_img('/content/drive/MyDrive/IBM_forestfire/Dataset/Dataset/test_set/forest/bavarian_forest_3385966_1280_1.jpg')\n",
        "x=image.img_to_array(img)\n",
        "res = cv2.resize(x, dsize=(128, 128), interpolation=cv2.INTER_CUBIC)\n",
        "#expand the image shape\n",
        "x=np.expand_dims(res,axis=0)"
      ],
      "metadata": {
        "id": "geakj_hSi2Jw"
      },
      "execution_count": 23,
      "outputs": []
    },
    {
      "cell_type": "code",
      "source": [
        "pred=model.predict(x)"
      ],
      "metadata": {
        "colab": {
          "base_uri": "https://localhost:8080/"
        },
        "id": "WUTpXBITmEA3",
        "outputId": "c61b9622-2aac-4c0d-c6a0-60b3f7fbe73a"
      },
      "execution_count": 25,
      "outputs": [
        {
          "output_type": "stream",
          "name": "stdout",
          "text": [
            "1/1 [==============================] - 0s 152ms/step\n"
          ]
        }
      ]
    },
    {
      "cell_type": "code",
      "source": [
        "pred"
      ],
      "metadata": {
        "colab": {
          "base_uri": "https://localhost:8080/"
        },
        "id": "DyjaKKMMmZka",
        "outputId": "104e5926-6f62-482e-b001-6668f62bec64"
      },
      "execution_count": 26,
      "outputs": [
        {
          "output_type": "execute_result",
          "data": {
            "text/plain": [
              "array([[0.]], dtype=float32)"
            ]
          },
          "metadata": {},
          "execution_count": 26
        }
      ]
    }
  ]
}